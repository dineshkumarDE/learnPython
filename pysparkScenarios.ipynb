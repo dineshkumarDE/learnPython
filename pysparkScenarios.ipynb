{
  "nbformat": 4,
  "nbformat_minor": 0,
  "metadata": {
    "colab": {
      "provenance": [],
      "authorship_tag": "ABX9TyMOprxgALErAbX2HURmtJDh",
      "include_colab_link": true
    },
    "kernelspec": {
      "name": "python3",
      "display_name": "Python 3"
    },
    "language_info": {
      "name": "python"
    }
  },
  "cells": [
    {
      "cell_type": "markdown",
      "metadata": {
        "id": "view-in-github",
        "colab_type": "text"
      },
      "source": [
        "<a href=\"https://colab.research.google.com/github/dineshkumarDE/learnPython/blob/main/pysparkScenarios.ipynb\" target=\"_parent\"><img src=\"https://colab.research.google.com/assets/colab-badge.svg\" alt=\"Open In Colab\"/></a>"
      ]
    },
    {
      "cell_type": "code",
      "execution_count": 25,
      "metadata": {
        "id": "auDGtaPFJyUI"
      },
      "outputs": [],
      "source": [
        "from pyspark.sql import SparkSession\n",
        "from pyspark.sql.functions import *\n",
        "from pyspark.sql.window import Window\n",
        "\n",
        "\n",
        "spark = SparkSession.builder.appName(\"SparkLearning\").getOrCreate()\n",
        "data = [\n",
        " (\"D001\", \"2024-03-28 10:00:00\"),\n",
        " (\"D001\", \"2024-03-28 10:04:00\"),\n",
        " (\"D001\", \"2024-03-28 10:25:00\"),\n",
        " (\"D001\", \"2024-03-28 10:29:00\"),\n",
        " (\"D001\", \"2024-03-28 11:00:00\")\n",
        "]\n"
      ]
    },
    {
      "cell_type": "code",
      "source": [
        "datadf=spark.createDataFrame(data,[\"device_id\",\"logtime\"]).withColumn(\"logtime\",col(\"logtime\").cast(\"timestamp\"))"
      ],
      "metadata": {
        "id": "eHLfgarAK4OU"
      },
      "execution_count": 26,
      "outputs": []
    },
    {
      "cell_type": "code",
      "source": [
        "windowdata=Window.partitionBy(\"device_id\").orderBy(\"logtime\")\n",
        "\n",
        "datadf=datadf.withColumn(\"prevtime\",lag(\"logtime\").over(windowdata))\n",
        "\n",
        "datadf.show()"
      ],
      "metadata": {
        "colab": {
          "base_uri": "https://localhost:8080/"
        },
        "id": "w7mHKMFpLaFo",
        "outputId": "23355fd2-2399-4ee3-d05e-5f5ad8e4975f"
      },
      "execution_count": 27,
      "outputs": [
        {
          "output_type": "stream",
          "name": "stdout",
          "text": [
            "+---------+-------------------+-------------------+\n",
            "|device_id|            logtime|           prevtime|\n",
            "+---------+-------------------+-------------------+\n",
            "|     D001|2024-03-28 10:00:00|               NULL|\n",
            "|     D001|2024-03-28 10:04:00|2024-03-28 10:00:00|\n",
            "|     D001|2024-03-28 10:25:00|2024-03-28 10:04:00|\n",
            "|     D001|2024-03-28 10:29:00|2024-03-28 10:25:00|\n",
            "|     D001|2024-03-28 11:00:00|2024-03-28 10:29:00|\n",
            "+---------+-------------------+-------------------+\n",
            "\n"
          ]
        }
      ]
    },
    {
      "cell_type": "code",
      "source": [
        "datadf=datadf.withColumn(\"timediff\",unix_timestamp(\"logtime\")-unix_timestamp(\"prevtime\"))\n",
        "datadf.show()"
      ],
      "metadata": {
        "colab": {
          "base_uri": "https://localhost:8080/"
        },
        "id": "qjNsAwSuNOZ1",
        "outputId": "6a3a608b-c2c4-4006-c782-cbf64ce0b5eb"
      },
      "execution_count": 28,
      "outputs": [
        {
          "output_type": "stream",
          "name": "stdout",
          "text": [
            "+---------+-------------------+-------------------+--------+\n",
            "|device_id|            logtime|           prevtime|timediff|\n",
            "+---------+-------------------+-------------------+--------+\n",
            "|     D001|2024-03-28 10:00:00|               NULL|    NULL|\n",
            "|     D001|2024-03-28 10:04:00|2024-03-28 10:00:00|     240|\n",
            "|     D001|2024-03-28 10:25:00|2024-03-28 10:04:00|    1260|\n",
            "|     D001|2024-03-28 10:29:00|2024-03-28 10:25:00|     240|\n",
            "|     D001|2024-03-28 11:00:00|2024-03-28 10:29:00|    1860|\n",
            "+---------+-------------------+-------------------+--------+\n",
            "\n"
          ]
        }
      ]
    },
    {
      "cell_type": "code",
      "source": [
        "datadf=datadf.withColumn(\"newsession\",(col(\"timediff\")>600).cast(\"int\"))\n",
        "datadf.show()"
      ],
      "metadata": {
        "colab": {
          "base_uri": "https://localhost:8080/"
        },
        "id": "_acf9FbPS2TT",
        "outputId": "2d8f9f87-5edd-4a92-d247-76c275a64a7b"
      },
      "execution_count": 29,
      "outputs": [
        {
          "output_type": "stream",
          "name": "stdout",
          "text": [
            "+---------+-------------------+-------------------+--------+----------+\n",
            "|device_id|            logtime|           prevtime|timediff|newsession|\n",
            "+---------+-------------------+-------------------+--------+----------+\n",
            "|     D001|2024-03-28 10:00:00|               NULL|    NULL|      NULL|\n",
            "|     D001|2024-03-28 10:04:00|2024-03-28 10:00:00|     240|         0|\n",
            "|     D001|2024-03-28 10:25:00|2024-03-28 10:04:00|    1260|         1|\n",
            "|     D001|2024-03-28 10:29:00|2024-03-28 10:25:00|     240|         0|\n",
            "|     D001|2024-03-28 11:00:00|2024-03-28 10:29:00|    1860|         1|\n",
            "+---------+-------------------+-------------------+--------+----------+\n",
            "\n"
          ]
        }
      ]
    },
    {
      "cell_type": "code",
      "source": [
        "datadf=datadf.withColumn(\"sessionid\",sum(\"newsession\").over(windowdata.rowsBetween(Window.unboundedPreceding,0)))\n",
        "datadf.show()"
      ],
      "metadata": {
        "colab": {
          "base_uri": "https://localhost:8080/"
        },
        "id": "YaZA6dwWh6SZ",
        "outputId": "2dfd0c86-7692-4266-a175-78c140f606b5"
      },
      "execution_count": 30,
      "outputs": [
        {
          "output_type": "stream",
          "name": "stdout",
          "text": [
            "+---------+-------------------+-------------------+--------+----------+---------+\n",
            "|device_id|            logtime|           prevtime|timediff|newsession|sessionid|\n",
            "+---------+-------------------+-------------------+--------+----------+---------+\n",
            "|     D001|2024-03-28 10:00:00|               NULL|    NULL|      NULL|     NULL|\n",
            "|     D001|2024-03-28 10:04:00|2024-03-28 10:00:00|     240|         0|        0|\n",
            "|     D001|2024-03-28 10:25:00|2024-03-28 10:04:00|    1260|         1|        1|\n",
            "|     D001|2024-03-28 10:29:00|2024-03-28 10:25:00|     240|         0|        1|\n",
            "|     D001|2024-03-28 11:00:00|2024-03-28 10:29:00|    1860|         1|        2|\n",
            "+---------+-------------------+-------------------+--------+----------+---------+\n",
            "\n"
          ]
        }
      ]
    },
    {
      "cell_type": "code",
      "source": [],
      "metadata": {
        "id": "NpYELsF2jNiK"
      },
      "execution_count": 30,
      "outputs": []
    },
    {
      "cell_type": "code",
      "source": [],
      "metadata": {
        "id": "TG7hw8L_jNex"
      },
      "execution_count": 30,
      "outputs": []
    },
    {
      "cell_type": "code",
      "source": [
        "result=datadf.groupBy(\"device_id\",\"sessionid\").agg(min(\"logtime\").alias(\"start_time\"),max(\"logtime\").alias(\"end_time\")).orderBy(\"start_time\")\n",
        "result.show()"
      ],
      "metadata": {
        "colab": {
          "base_uri": "https://localhost:8080/"
        },
        "id": "WCZrpQ4pi8kA",
        "outputId": "a38ae847-1731-42d8-8e1f-27783f3dc210"
      },
      "execution_count": 31,
      "outputs": [
        {
          "output_type": "stream",
          "name": "stdout",
          "text": [
            "+---------+---------+-------------------+-------------------+\n",
            "|device_id|sessionid|         start_time|           end_time|\n",
            "+---------+---------+-------------------+-------------------+\n",
            "|     D001|     NULL|2024-03-28 10:00:00|2024-03-28 10:00:00|\n",
            "|     D001|        0|2024-03-28 10:04:00|2024-03-28 10:04:00|\n",
            "|     D001|        1|2024-03-28 10:25:00|2024-03-28 10:29:00|\n",
            "|     D001|        2|2024-03-28 11:00:00|2024-03-28 11:00:00|\n",
            "+---------+---------+-------------------+-------------------+\n",
            "\n"
          ]
        }
      ]
    },
    {
      "cell_type": "code",
      "source": [
        "# prompt: how to not get NULL sessionid because that is not actually a session\n",
        "\n",
        "datadf = datadf.withColumn(\"newsession\", when(col(\"timediff\").isNull(), 1).otherwise((col(\"timediff\") > 600).cast(\"int\")))\n",
        "datadf.show()\n",
        "datadf = datadf.withColumn(\"sessionid\", sum(\"newsession\").over(windowdata.rowsBetween(Window.unboundedPreceding, 0)))\n",
        "datadf.show()\n",
        "result = datadf.groupBy(\"device_id\", \"sessionid\").agg(min(\"logtime\").alias(\"start_time\"), max(\"logtime\").alias(\"end_time\")).orderBy(\"start_time\")\n",
        "result.show()\n"
      ],
      "metadata": {
        "colab": {
          "base_uri": "https://localhost:8080/"
        },
        "id": "Yf91F8MMkthS",
        "outputId": "167772ec-96d9-4c80-d811-feaab3974c72"
      },
      "execution_count": 32,
      "outputs": [
        {
          "output_type": "stream",
          "name": "stdout",
          "text": [
            "+---------+-------------------+-------------------+--------+----------+---------+\n",
            "|device_id|            logtime|           prevtime|timediff|newsession|sessionid|\n",
            "+---------+-------------------+-------------------+--------+----------+---------+\n",
            "|     D001|2024-03-28 10:00:00|               NULL|    NULL|         1|     NULL|\n",
            "|     D001|2024-03-28 10:04:00|2024-03-28 10:00:00|     240|         0|        0|\n",
            "|     D001|2024-03-28 10:25:00|2024-03-28 10:04:00|    1260|         1|        1|\n",
            "|     D001|2024-03-28 10:29:00|2024-03-28 10:25:00|     240|         0|        1|\n",
            "|     D001|2024-03-28 11:00:00|2024-03-28 10:29:00|    1860|         1|        2|\n",
            "+---------+-------------------+-------------------+--------+----------+---------+\n",
            "\n",
            "+---------+-------------------+-------------------+--------+----------+---------+\n",
            "|device_id|            logtime|           prevtime|timediff|newsession|sessionid|\n",
            "+---------+-------------------+-------------------+--------+----------+---------+\n",
            "|     D001|2024-03-28 10:00:00|               NULL|    NULL|         1|        1|\n",
            "|     D001|2024-03-28 10:04:00|2024-03-28 10:00:00|     240|         0|        1|\n",
            "|     D001|2024-03-28 10:25:00|2024-03-28 10:04:00|    1260|         1|        2|\n",
            "|     D001|2024-03-28 10:29:00|2024-03-28 10:25:00|     240|         0|        2|\n",
            "|     D001|2024-03-28 11:00:00|2024-03-28 10:29:00|    1860|         1|        3|\n",
            "+---------+-------------------+-------------------+--------+----------+---------+\n",
            "\n",
            "+---------+---------+-------------------+-------------------+\n",
            "|device_id|sessionid|         start_time|           end_time|\n",
            "+---------+---------+-------------------+-------------------+\n",
            "|     D001|        1|2024-03-28 10:00:00|2024-03-28 10:04:00|\n",
            "|     D001|        2|2024-03-28 10:25:00|2024-03-28 10:29:00|\n",
            "|     D001|        3|2024-03-28 11:00:00|2024-03-28 11:00:00|\n",
            "+---------+---------+-------------------+-------------------+\n",
            "\n"
          ]
        }
      ]
    }
  ]
}