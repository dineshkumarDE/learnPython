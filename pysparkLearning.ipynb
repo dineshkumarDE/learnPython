{
  "nbformat": 4,
  "nbformat_minor": 0,
  "metadata": {
    "colab": {
      "provenance": [],
      "authorship_tag": "ABX9TyMfFkUEv8O0q882yJQedkRs",
      "include_colab_link": true
    },
    "kernelspec": {
      "name": "python3",
      "display_name": "Python 3"
    },
    "language_info": {
      "name": "python"
    }
  },
  "cells": [
    {
      "cell_type": "markdown",
      "metadata": {
        "id": "view-in-github",
        "colab_type": "text"
      },
      "source": [
        "<a href=\"https://colab.research.google.com/github/dineshkumarDE/learnPython/blob/main/pysparkLearning.ipynb\" target=\"_parent\"><img src=\"https://colab.research.google.com/assets/colab-badge.svg\" alt=\"Open In Colab\"/></a>"
      ]
    },
    {
      "cell_type": "markdown",
      "source": [
        "**PYSPARK learning**"
      ],
      "metadata": {
        "id": "ycGpK7afFoHm"
      }
    },
    {
      "cell_type": "markdown",
      "source": [
        "# Day1"
      ],
      "metadata": {
        "id": "HGyr-kcDFv1h"
      }
    },
    {
      "cell_type": "code",
      "source": [
        "!pip install pyspark"
      ],
      "metadata": {
        "colab": {
          "base_uri": "https://localhost:8080/"
        },
        "id": "96buJQGiAX0f",
        "outputId": "524d50bb-ba2e-4d57-cb2e-fbb334027b12"
      },
      "execution_count": 2,
      "outputs": [
        {
          "output_type": "stream",
          "name": "stdout",
          "text": [
            "Requirement already satisfied: pyspark in /usr/local/lib/python3.11/dist-packages (3.5.1)\n",
            "Requirement already satisfied: py4j==0.10.9.7 in /usr/local/lib/python3.11/dist-packages (from pyspark) (0.10.9.7)\n"
          ]
        }
      ]
    },
    {
      "cell_type": "code",
      "source": [
        "from pyspark.sql import SparkSession\n",
        "from pyspark.sql.functions import sum,desc"
      ],
      "metadata": {
        "id": "NGxgBt2GAquR"
      },
      "execution_count": 7,
      "outputs": []
    },
    {
      "cell_type": "code",
      "source": [
        "spark = SparkSession.builder.appName(\"TopCustomers\").getOrCreate()\n",
        "\n",
        "data = [(\"C001\", 500), (\"C002\", 1000), (\"C003\", 750),\n",
        " (\"C001\", 300), (\"C002\", 500), (\"C003\", 250), (\"C004\", 200)]\n",
        "\n",
        "columns = [\"customer_id\", \"transaction_amount\"]\n",
        "\n",
        "df = spark.createDataFrame(data,columns)\n",
        "df.show()"
      ],
      "metadata": {
        "colab": {
          "base_uri": "https://localhost:8080/"
        },
        "id": "7jP7_oDoAzrK",
        "outputId": "54774aef-de19-4765-b40a-d916719af9b5"
      },
      "execution_count": 9,
      "outputs": [
        {
          "output_type": "stream",
          "name": "stdout",
          "text": [
            "+-----------+------------------+\n",
            "|customer_id|transaction_amount|\n",
            "+-----------+------------------+\n",
            "|       C001|               500|\n",
            "|       C002|              1000|\n",
            "|       C003|               750|\n",
            "|       C001|               300|\n",
            "|       C002|               500|\n",
            "|       C003|               250|\n",
            "|       C004|               200|\n",
            "+-----------+------------------+\n",
            "\n"
          ]
        }
      ]
    },
    {
      "cell_type": "code",
      "source": [],
      "metadata": {
        "id": "7vG0qhLZE4r8"
      },
      "execution_count": null,
      "outputs": []
    },
    {
      "cell_type": "code",
      "source": [
        "df.groupBy(\"customer_id\").agg(sum(\"transaction_amount\").alias(\"total_amt\")).orderBy(desc(\"total_amt\")).limit(3).show()\n",
        "\n"
      ],
      "metadata": {
        "colab": {
          "base_uri": "https://localhost:8080/"
        },
        "id": "MWM-TfAZBSKR",
        "outputId": "fcde6ed6-d470-4025-9fff-572533aca37b"
      },
      "execution_count": 18,
      "outputs": [
        {
          "output_type": "stream",
          "name": "stdout",
          "text": [
            "+-----------+---------+\n",
            "|customer_id|total_amt|\n",
            "+-----------+---------+\n",
            "|       C002|     1500|\n",
            "|       C003|     1000|\n",
            "|       C001|      800|\n",
            "+-----------+---------+\n",
            "\n"
          ]
        }
      ]
    },
    {
      "cell_type": "markdown",
      "source": [
        "# Day 2"
      ],
      "metadata": {
        "id": "HwMoVZEeF685"
      }
    },
    {
      "cell_type": "code",
      "source": [
        "from pyspark.sql.functions import min,max"
      ],
      "metadata": {
        "id": "igtVVpgfISDi"
      },
      "execution_count": 25,
      "outputs": []
    },
    {
      "cell_type": "code",
      "source": [
        "\n",
        "\n",
        "data = [(\"U001\", \"2024-03-10 08:00:00\"), (\"U002\", \"2024-03-10 09:30:00\"),\n",
        " (\"U001\", \"2024-03-10 12:45:00\"), (\"U002\", \"2024-03-10 14:00:00\"),\n",
        " (\"U003\", \"2024-03-10 11:15:00\"), (\"U001\", \"2024-03-10 18:30:00\"),\n",
        " (\"U003\", \"2024-03-10 22:00:00\")]\n",
        "\n",
        "columns = [\"user_id\", \"login_time\"]"
      ],
      "metadata": {
        "id": "DfBrWROyF-0u"
      },
      "execution_count": 19,
      "outputs": []
    },
    {
      "cell_type": "code",
      "source": [
        "df1 = spark.createDataFrame(data,columns)\n",
        "df1.show()"
      ],
      "metadata": {
        "colab": {
          "base_uri": "https://localhost:8080/"
        },
        "id": "sPLtzqNUGObv",
        "outputId": "f9302aa5-0594-456b-8303-508db737ff6a"
      },
      "execution_count": 20,
      "outputs": [
        {
          "output_type": "stream",
          "name": "stdout",
          "text": [
            "+-------+-------------------+\n",
            "|user_id|         login_time|\n",
            "+-------+-------------------+\n",
            "|   U001|2024-03-10 08:00:00|\n",
            "|   U002|2024-03-10 09:30:00|\n",
            "|   U001|2024-03-10 12:45:00|\n",
            "|   U002|2024-03-10 14:00:00|\n",
            "|   U003|2024-03-10 11:15:00|\n",
            "|   U001|2024-03-10 18:30:00|\n",
            "|   U003|2024-03-10 22:00:00|\n",
            "+-------+-------------------+\n",
            "\n"
          ]
        }
      ]
    },
    {
      "cell_type": "code",
      "source": [
        "df1.groupBy(\"user_id\").agg(min(\"login_time\").alias(\"first_login\"),max(\"login_time\").alias(\"last_login\")).show()"
      ],
      "metadata": {
        "colab": {
          "base_uri": "https://localhost:8080/"
        },
        "id": "kstHaT_SGXei",
        "outputId": "b8b56bab-315b-44f9-b946-5c5d8fe19520"
      },
      "execution_count": 29,
      "outputs": [
        {
          "output_type": "stream",
          "name": "stdout",
          "text": [
            "+-------+-------------------+-------------------+\n",
            "|user_id|        first_login|         last_login|\n",
            "+-------+-------------------+-------------------+\n",
            "|   U001|2024-03-10 08:00:00|2024-03-10 18:30:00|\n",
            "|   U002|2024-03-10 09:30:00|2024-03-10 14:00:00|\n",
            "|   U003|2024-03-10 11:15:00|2024-03-10 22:00:00|\n",
            "+-------+-------------------+-------------------+\n",
            "\n"
          ]
        }
      ]
    },
    {
      "cell_type": "markdown",
      "source": [
        "# Day4"
      ],
      "metadata": {
        "id": "FzFdK5bwLyD4"
      }
    },
    {
      "cell_type": "code",
      "source": [
        "from pyspark.sql.window import Window\n",
        "from pyspark.sql.functions import rank,lag,lead,col,to_timestamp,to_unix_timestamp,coalesce,when"
      ],
      "metadata": {
        "id": "PLdu01WPPPZs"
      },
      "execution_count": 82,
      "outputs": []
    },
    {
      "cell_type": "code",
      "source": [
        "data = [\n",
        " (\"U001\", \"login\", \"2024-03-18 10:00:00\"),\n",
        " (\"U001\", \"click\", \"2024-03-18 10:00:05\"),\n",
        " (\"U001\", \"purchase\", \"2024-03-18 10:10:00\"),\n",
        " (\"U002\", \"login\", \"2024-03-18 10:15:00\"),\n",
        " (\"U002\", \"click\", \"2024-03-18 10:15:30\"),\n",
        " (\"U003\", \"login\", \"2024-03-18 10:20:00\"),\n",
        " (\"U003\", \"click\", \"2024-03-18 10:20:08\"),\n",
        "]\n",
        "df2=spark.createDataFrame(data,[\"user_id\",\"event\",\"event_timestamp\"])"
      ],
      "metadata": {
        "id": "rDtoJSbTJRk8"
      },
      "execution_count": 30,
      "outputs": []
    },
    {
      "cell_type": "code",
      "source": [
        "df2=df2.withColumn(\"event_timestamp\",to_unix_timestamp(\"event_timestamp\"))\n",
        "df2.printSchema()"
      ],
      "metadata": {
        "colab": {
          "base_uri": "https://localhost:8080/"
        },
        "id": "2WQr3mLEMDM5",
        "outputId": "0ffb27f5-9167-47f7-fd05-fc3db75403ec"
      },
      "execution_count": 61,
      "outputs": [
        {
          "output_type": "stream",
          "name": "stdout",
          "text": [
            "root\n",
            " |-- user_id: string (nullable = true)\n",
            " |-- event: string (nullable = true)\n",
            " |-- event_timestamp: long (nullable = true)\n",
            "\n"
          ]
        }
      ]
    },
    {
      "cell_type": "code",
      "source": [
        "window_spec = Window.partitionBy(\"user_id\").orderBy(\"event_timestamp\")\n",
        "df3 = df2.select(\n",
        "    \"user_id\" ,\n",
        "    lag(\"event_timestamp\",1).over(window_spec).alias(\"prev_event_timestamp\"),\n",
        "    \"event_timestamp\",\n",
        "    lead(\"event_timestamp\",1).over(window_spec).alias(\"next_event_timestamp\")\n",
        "    ,(col(\"event_timestamp\") - ( when(col(\"prev_event_timestamp\").isNull(), 0).otherwise(col(\"prev_event_timestamp\")))).alias(\"timediff\")\n",
        "    )\n",
        "\n",
        "df3.filter(col(\"timediff\")<10).select(\"user_id\",\"timediff\").show()"
      ],
      "metadata": {
        "colab": {
          "base_uri": "https://localhost:8080/"
        },
        "id": "3D35lm99MGX6",
        "outputId": "beba5edf-076f-463d-cf8f-bfe55c68cd41"
      },
      "execution_count": 92,
      "outputs": [
        {
          "output_type": "stream",
          "name": "stdout",
          "text": [
            "+-------+--------+\n",
            "|user_id|timediff|\n",
            "+-------+--------+\n",
            "|   U001|       5|\n",
            "|   U003|       8|\n",
            "+-------+--------+\n",
            "\n"
          ]
        }
      ]
    }
  ]
}